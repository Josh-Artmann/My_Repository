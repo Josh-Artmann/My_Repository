{
 "cells": [
  {
   "cell_type": "markdown",
   "metadata": {
    "colab_type": "text",
    "id": "vNaI6ZEbU5Eu"
   },
   "source": [
    "\n",
    "# <p style=\"text-align: center;\">MIS 382N: ADVANCED PREDICTIVE MODELING - MSBA</p>\n",
    "# <p style=\"text-align: center;\">Assignment 1</p>\n",
    "## <p style=\"text-align: center;\">Total points: 85</p>\n",
    "## <p style=\"text-align: center;\">Due: Monday, September 14 submitted via Canvas by 11:59 pm</p>\n",
    "\n",
    "Your homework should be written in a **Jupyter notebook**. You may work in groups of two if you wish. Your partner needs to be from the same section. Only one student per team needs to submit the assignment on Canvas.  But be sure to include name and UTEID for both students.  Homework groups will be created and managed through Canvas, so please do not arbitrarily change your homework group. If you do change, let the TA know. \n",
    "\n",
    "Also, please make sure your code runs and the graphics (and anything else) are displayed in your notebook before submitting. (%matplotlib inline)"
   ]
  },
  {
   "cell_type": "markdown",
   "metadata": {},
   "source": [
    "# <p style=\"text-align: center;\">Homework 1: Joshua Artmann and Sujay Chebbi</p>\n",
    "## <p style=\"text-align: center;\">UTEID: jka753</p>\n",
    "## <p style=\"text-align: center;\">UTEID: sc64344</p>"
   ]
  },
  {
   "cell_type": "markdown",
   "metadata": {
    "colab_type": "text",
    "id": "Xo0nJm8jVIvq"
   },
   "source": [
    "# Question 1: Challenges in Data Science (10 pts)\n",
    "\n",
    "#### Refer to the Domino guide under Modules --> Additional Resources\n",
    "\n",
    "#### Section 2 describes 8 Challenges. You may have personally encountered or heard of somebody else who encountered some of these challenge. If so, please write 1-2 paragraphs on what situation was encountered and how it mapped into one the mentioned challenges. If not, think of a hypothetical case and do the same exercise."
   ]
  },
  {
   "cell_type": "markdown",
   "metadata": {},
   "source": [
    "This is an example of solving the right problem the wrong way, so no one uses it.  Say for instance we are trying to create a model that predicts insurance premiums from a variety of factors.  The first step is to train and test that model for accuracy on our dataset that we acquired and has all of the variables we are interested in and is clean (in a perfect world).  Now say this model accurately predicts underwriter insurance premiums on a very large dataset and is a sound model that we can outsource to insurance companies to reduce their underwriting costs.  Here's the problem; we also provide the client with our built in-house software that allows them to construct and deploy that model that we built as well as build other models for themselves for other business solutions.  But say this software is different from any platform the data science team of the client has seen before.  Now we need to send a team that trains them in the use of this software so that they can deploy our model on their own client data.  Say for instance this software platform is inefficient or hard to utilize and our training team can not train the client's team to use the software to deploy the model.  So the client cancels the contract and moves forward with different solutions to reduce underwriter costs. This would be an example of solving the problem of underwriting cost reduction but being unsuccessful in training implementation of that solution."
   ]
  },
  {
   "cell_type": "markdown",
   "metadata": {
    "colab_type": "text",
    "id": "TEJzKVrnVNX8"
   },
   "source": [
    "# Question 2: Guess the coin (5+5 = 10 points)\n",
    "\n",
    "Assume we are playing a guessing game with a friend. The friend has three coins at hand:\n",
    "* **Coin A**: a fair coin with equal probability of being head (H ) or tail (T)\n",
    "* **Coin B**: a biased coin with a probability of 0.75 being head (H)\n",
    "* **Coin C**: a coin with a probability of $P^*(H)$ being head (H)\n",
    "\n",
    "The friend secretly picked one of the coins, randomly flipped it a few times, and get a sequence of *HTHHTT* (all of which come from the same coin he picked). \n",
    "\n",
    "1. If you had to choose between whether **Coin A** or **Coin B** was used, and you prefer the one which is more likely, which one will you choose?  (5 points)\n",
    "2. What would be the value of  $P^*(H)$ such that **Coin C** corresponds to the most likely (among infinite possible coins) coin to have produced the observed sequence?(i.e. provide  an analytical derivation for $P^*(H)$ using maximum likelihood estimation (MLE)).\""
   ]
  },
  {
   "cell_type": "markdown",
   "metadata": {},
   "source": [
    "## Answer"
   ]
  },
  {
   "cell_type": "markdown",
   "metadata": {},
   "source": [
    "### 1."
   ]
  },
  {
   "cell_type": "markdown",
   "metadata": {},
   "source": [
    "Coin A and Coin B have probability distibutions in the form of binomial distributions. Coin A has probability of success, p = 0.5 and probability of failure, q = 0.5, while Coin B has probability of success, p = 0.75 and probability of failure, q = 0.25. There are 3 successful trials; that is, 3 attempts where the coin flip yields head from a total of 6 trials. Therefore x = 3, n = 6.\n",
    "<br>\n",
    "The binomial distribution formula is as follows:\n",
    "$$P(x) = \\frac{n!}{(n-x)!x!}*p^x*q^{n-x}$$\n",
    "<br>\n",
    "By substituting the corresponding values, for Coin A:\n",
    "$$P(x = 3) = \\frac{6!}{(6-3)!3!}*0.5^3*0.5^{6-3} = 0.3125$$\n",
    "<br>\n",
    "By substituting the corresponding values, for Coin B:\n",
    "$$P(x = 3) = \\frac{6!}{(6-3)!3!}*0.75^3*0.25^{6-3} = 0.1318359375$$\n",
    "<br>\n",
    "From these binomial probability calculations, I would choose **Coin A.**"
   ]
  },
  {
   "cell_type": "markdown",
   "metadata": {},
   "source": [
    "### 2."
   ]
  },
  {
   "cell_type": "markdown",
   "metadata": {},
   "source": [
    "Let us represent a binomial distribution using 2 variables, x and p; where x is the number of successes and p is the probability of successful occurences.\n",
    "The binomial distribution can be written as such:\n",
    "$$P(x,p) = {n\\choose x}*p^x*(1-p)^{n-x}$$\n",
    "From this equation, we take the first derivative with respect to p and set that equation equal to 0 in order to determine the maximum likelihood. To make the derivative simpler, we will take the natural log of this equation and maximize that in order to determine maximum likelihood. This is seen as such:\n",
    "$$ln(P(x,p)) = ln{n\\choose x}+xln(p)+(n-x)ln(1-p)$$\n",
    "Now, with this equation, we take the first derivative with respect to p. This is seen as such:\n",
    "$$\\frac{d}{dp}P(x,p) = 0 + \\frac{x}{p} - \\frac{n-x}{1-p} = 0$$\n",
    "<br>\n",
    "By cross multiplying we get:\n",
    "$$x(1-p) = (n-x)(p)$$\n",
    "<br>\n",
    "The *xp* terms cancel out and we are left with:\n",
    "$$x = pn$$\n",
    "<br>\n",
    "This equation yields a simple solution. The maximum likelihood for a binomial distribution is: $$p = \\frac{x}{n}$$\n",
    "From the sequence *HTHHTT*, we see 3 heads from a total of 6 trials. We simply substitutite these values into the above equation which yields: $$p = \\frac{x}{n} = \\frac{3}{6} = \\frac{1}{2}$$\n",
    "Therefore the value of **P*(H)** is equal to $\\frac{1}{2}$ which corresponds to **Coin A.**"
   ]
  },
  {
   "cell_type": "markdown",
   "metadata": {
    "colab_type": "text",
    "id": "7ybdQEknZyQH"
   },
   "source": [
    "# Question 3: Multiple Linear Regression (30 pts)\n",
    "\n",
    "This dataset is a record of 7 common different fish species in fish market sales. With this dataset, a predictive model can be developed using machine friendly data and the weight of fish can be predicted. Use the following code to import the Fish market prices dataset in python. The dataset is taken from https://www.kaggle.com/aungpyaeap/fish-market."
   ]
  },
  {
   "cell_type": "code",
   "execution_count": 1,
   "metadata": {
    "colab": {
     "base_uri": "https://localhost:8080/",
     "height": 235
    },
    "colab_type": "code",
    "id": "3gPvvi5SbFuO",
    "outputId": "cff835be-39ce-496d-bcc4-24e00da7521f"
   },
   "outputs": [
    {
     "name": "stdout",
     "output_type": "stream",
     "text": [
      "Populating the interactive namespace from numpy and matplotlib\n"
     ]
    },
    {
     "data": {
      "text/html": [
       "<div>\n",
       "<style scoped>\n",
       "    .dataframe tbody tr th:only-of-type {\n",
       "        vertical-align: middle;\n",
       "    }\n",
       "\n",
       "    .dataframe tbody tr th {\n",
       "        vertical-align: top;\n",
       "    }\n",
       "\n",
       "    .dataframe thead th {\n",
       "        text-align: right;\n",
       "    }\n",
       "</style>\n",
       "<table border=\"1\" class=\"dataframe\">\n",
       "  <thead>\n",
       "    <tr style=\"text-align: right;\">\n",
       "      <th></th>\n",
       "      <th>Weight</th>\n",
       "      <th>Length1</th>\n",
       "      <th>Length2</th>\n",
       "      <th>Length3</th>\n",
       "      <th>Height</th>\n",
       "      <th>Width</th>\n",
       "    </tr>\n",
       "    <tr>\n",
       "      <th>Species</th>\n",
       "      <th></th>\n",
       "      <th></th>\n",
       "      <th></th>\n",
       "      <th></th>\n",
       "      <th></th>\n",
       "      <th></th>\n",
       "    </tr>\n",
       "  </thead>\n",
       "  <tbody>\n",
       "    <tr>\n",
       "      <th>Bream</th>\n",
       "      <td>242.0</td>\n",
       "      <td>23.2</td>\n",
       "      <td>25.4</td>\n",
       "      <td>30.0</td>\n",
       "      <td>11.5200</td>\n",
       "      <td>4.0200</td>\n",
       "    </tr>\n",
       "    <tr>\n",
       "      <th>Bream</th>\n",
       "      <td>290.0</td>\n",
       "      <td>24.0</td>\n",
       "      <td>26.3</td>\n",
       "      <td>31.2</td>\n",
       "      <td>12.4800</td>\n",
       "      <td>4.3056</td>\n",
       "    </tr>\n",
       "    <tr>\n",
       "      <th>Bream</th>\n",
       "      <td>340.0</td>\n",
       "      <td>23.9</td>\n",
       "      <td>26.5</td>\n",
       "      <td>31.1</td>\n",
       "      <td>12.3778</td>\n",
       "      <td>4.6961</td>\n",
       "    </tr>\n",
       "    <tr>\n",
       "      <th>Bream</th>\n",
       "      <td>363.0</td>\n",
       "      <td>26.3</td>\n",
       "      <td>29.0</td>\n",
       "      <td>33.5</td>\n",
       "      <td>12.7300</td>\n",
       "      <td>4.4555</td>\n",
       "    </tr>\n",
       "    <tr>\n",
       "      <th>Bream</th>\n",
       "      <td>430.0</td>\n",
       "      <td>26.5</td>\n",
       "      <td>29.0</td>\n",
       "      <td>34.0</td>\n",
       "      <td>12.4440</td>\n",
       "      <td>5.1340</td>\n",
       "    </tr>\n",
       "  </tbody>\n",
       "</table>\n",
       "</div>"
      ],
      "text/plain": [
       "         Weight  Length1  Length2  Length3   Height   Width\n",
       "Species                                                    \n",
       "Bream     242.0     23.2     25.4     30.0  11.5200  4.0200\n",
       "Bream     290.0     24.0     26.3     31.2  12.4800  4.3056\n",
       "Bream     340.0     23.9     26.5     31.1  12.3778  4.6961\n",
       "Bream     363.0     26.3     29.0     33.5  12.7300  4.4555\n",
       "Bream     430.0     26.5     29.0     34.0  12.4440  5.1340"
      ]
     },
     "execution_count": 1,
     "metadata": {},
     "output_type": "execute_result"
    }
   ],
   "source": [
    "import numpy as np\n",
    "import pandas as pd\n",
    "pd.options.mode.chained_assignment = None\n",
    "%pylab inline\n",
    "\n",
    "df = pd.read_csv(\"data.csv\", index_col=0)\n",
    "df = df[~df.isin([0, np.nan, np.inf, -np.inf]).any(1)]\n",
    "df.head()"
   ]
  },
  {
   "cell_type": "markdown",
   "metadata": {
    "colab_type": "text",
    "id": "Kp1rcYK5fRWK"
   },
   "source": [
    "Here,\n",
    "1. Species: Species name of fish\n",
    "2. Weight: Weight of fish in gram\n",
    "3. Length1: Vertical length in cm\n",
    "4. Length2: Diagonal length in cm\n",
    "5. Length3: Cross length in cm\n",
    "6. Height: Height in cm\n",
    "7. Width: Diagonal width in cm"
   ]
  },
  {
   "cell_type": "code",
   "execution_count": 2,
   "metadata": {
    "colab": {},
    "colab_type": "code",
    "id": "1GG5IzhNd0Xt"
   },
   "outputs": [],
   "source": [
    "df = df.fillna(0)\n",
    "X = df.drop(['Weight'], axis=1)\n",
    "y = df['Weight']"
   ]
  },
  {
   "cell_type": "markdown",
   "metadata": {
    "colab_type": "text",
    "id": "gODjWSNcdHhb"
   },
   "source": [
    "Consider the `Weight` column to be your target variable."
   ]
  },
  {
   "cell_type": "markdown",
   "metadata": {
    "colab_type": "text",
    "id": "tMUKzagncX0O"
   },
   "source": [
    "a. (2 pts)  Print the shape (number of rows and columns) of the feature matrix X, and print the first 5 rows.\n",
    "\n",
    "b. (6 pts) Using ordinary least squares, fit a multiple linear regression (MLR) on all the feature variables using the entire dataset. Report the regression coefficient of each input feature and evaluate the model using mean absolute error (MAE). Example of ordinary least squares in Python is shown in Section 1.1.1 of http://scikit-learn.org/stable/modules/linear_model.html.\n",
    "\n",
    "c. (6 pts) Split the data into a training set and a test set, using the train_test_split with test_size = 0.25 and random_state = 50. Fit an MLR using the training set. Evaluate the trained model using the training set and the test set, respectively. Compare the two MAE values thus obtained. Report the [$R^2$ (coefficient of determination)](https://scikit-learn.org/stable/modules/generated/sklearn.metrics.r2_score.html) value.\n",
    "\n",
    "d. (5 pts) Calculate the pearson correlation matrix of the independent variables in the training set. Report the variables which have magnitude of correlation greater than 0.8 w.r.t the variable 'Length2'. Now, plot a pairplot based on Species column as seen in the 2nd plot [here](https://seaborn.pydata.org/generated/seaborn.pairplot.html). How does the pairplot validate your previous answer?\n",
    "\n",
    "e. (6 pts) Plot the histogram of Y_train and see its distribution. Now take log of Y_train and plot its histogram. Now run regression again after taking log and compare the MAE. You need to do np.exp(predictions) to bring them back to original scale, and then calculate MAE and $R^2$. Explain the results.\n",
    "\n",
    "f. (5 pts) Rank the features in descending order based on their significance. You might find this link to be helpful: http://scikit-learn.org/stable/modules/generated/sklearn.feature_selection.RFE.html.\n",
    "\n",
    "g. (Bonus question - 5 pts) Use the Species column for one-hot encoding and perform part c of this question. Explain your results."
   ]
  },
  {
   "cell_type": "markdown",
   "metadata": {},
   "source": [
    "## Answer"
   ]
  },
  {
   "cell_type": "markdown",
   "metadata": {},
   "source": [
    "### a."
   ]
  },
  {
   "cell_type": "code",
   "execution_count": 3,
   "metadata": {},
   "outputs": [
    {
     "name": "stdout",
     "output_type": "stream",
     "text": [
      "There are 158 rows in feature matrix X.\n",
      "There are 5 columns in feature matrix X.\n"
     ]
    },
    {
     "data": {
      "text/html": [
       "<div>\n",
       "<style scoped>\n",
       "    .dataframe tbody tr th:only-of-type {\n",
       "        vertical-align: middle;\n",
       "    }\n",
       "\n",
       "    .dataframe tbody tr th {\n",
       "        vertical-align: top;\n",
       "    }\n",
       "\n",
       "    .dataframe thead th {\n",
       "        text-align: right;\n",
       "    }\n",
       "</style>\n",
       "<table border=\"1\" class=\"dataframe\">\n",
       "  <thead>\n",
       "    <tr style=\"text-align: right;\">\n",
       "      <th></th>\n",
       "      <th>Length1</th>\n",
       "      <th>Length2</th>\n",
       "      <th>Length3</th>\n",
       "      <th>Height</th>\n",
       "      <th>Width</th>\n",
       "    </tr>\n",
       "    <tr>\n",
       "      <th>Species</th>\n",
       "      <th></th>\n",
       "      <th></th>\n",
       "      <th></th>\n",
       "      <th></th>\n",
       "      <th></th>\n",
       "    </tr>\n",
       "  </thead>\n",
       "  <tbody>\n",
       "    <tr>\n",
       "      <th>Bream</th>\n",
       "      <td>23.2</td>\n",
       "      <td>25.4</td>\n",
       "      <td>30.0</td>\n",
       "      <td>11.5200</td>\n",
       "      <td>4.0200</td>\n",
       "    </tr>\n",
       "    <tr>\n",
       "      <th>Bream</th>\n",
       "      <td>24.0</td>\n",
       "      <td>26.3</td>\n",
       "      <td>31.2</td>\n",
       "      <td>12.4800</td>\n",
       "      <td>4.3056</td>\n",
       "    </tr>\n",
       "    <tr>\n",
       "      <th>Bream</th>\n",
       "      <td>23.9</td>\n",
       "      <td>26.5</td>\n",
       "      <td>31.1</td>\n",
       "      <td>12.3778</td>\n",
       "      <td>4.6961</td>\n",
       "    </tr>\n",
       "    <tr>\n",
       "      <th>Bream</th>\n",
       "      <td>26.3</td>\n",
       "      <td>29.0</td>\n",
       "      <td>33.5</td>\n",
       "      <td>12.7300</td>\n",
       "      <td>4.4555</td>\n",
       "    </tr>\n",
       "    <tr>\n",
       "      <th>Bream</th>\n",
       "      <td>26.5</td>\n",
       "      <td>29.0</td>\n",
       "      <td>34.0</td>\n",
       "      <td>12.4440</td>\n",
       "      <td>5.1340</td>\n",
       "    </tr>\n",
       "  </tbody>\n",
       "</table>\n",
       "</div>"
      ],
      "text/plain": [
       "         Length1  Length2  Length3   Height   Width\n",
       "Species                                            \n",
       "Bream       23.2     25.4     30.0  11.5200  4.0200\n",
       "Bream       24.0     26.3     31.2  12.4800  4.3056\n",
       "Bream       23.9     26.5     31.1  12.3778  4.6961\n",
       "Bream       26.3     29.0     33.5  12.7300  4.4555\n",
       "Bream       26.5     29.0     34.0  12.4440  5.1340"
      ]
     },
     "execution_count": 3,
     "metadata": {},
     "output_type": "execute_result"
    }
   ],
   "source": [
    "print(\"There are\",len(X), \"rows in feature matrix X.\")\n",
    "print(\"There are\",len(X.columns), \"columns in feature matrix X.\")\n",
    "X.head()"
   ]
  },
  {
   "cell_type": "markdown",
   "metadata": {},
   "source": [
    "### b."
   ]
  },
  {
   "cell_type": "code",
   "execution_count": 4,
   "metadata": {},
   "outputs": [],
   "source": [
    "from sklearn import linear_model\n",
    "from sklearn.metrics import mean_absolute_error\n",
    "import statsmodels.api as sm"
   ]
  },
  {
   "cell_type": "code",
   "execution_count": 5,
   "metadata": {},
   "outputs": [
    {
     "name": "stdout",
     "output_type": "stream",
     "text": [
      "The regression coefficients are: [ 63.96945622  -9.10851306 -28.11886474  27.9262076   23.41231976]\n",
      "\n",
      "\n",
      "The mean absolute error is: 91.71233364960419\n"
     ]
    }
   ],
   "source": [
    "model = linear_model.LinearRegression()\n",
    "reg = model.fit(X,y)\n",
    "print(\"The regression coefficients are:\", reg.coef_)\n",
    "print(\"\\n\")\n",
    "y_pred = reg.predict(X)\n",
    "print(\"The mean absolute error is:\", mean_absolute_error(y, y_pred))"
   ]
  },
  {
   "cell_type": "markdown",
   "metadata": {},
   "source": [
    "### c."
   ]
  },
  {
   "cell_type": "code",
   "execution_count": 6,
   "metadata": {},
   "outputs": [],
   "source": [
    "from sklearn.metrics import r2_score\n",
    "from sklearn.model_selection import train_test_split\n",
    "X_train, X_test, y_train, y_test = train_test_split(X, y, test_size=0.25, random_state=50)"
   ]
  },
  {
   "cell_type": "code",
   "execution_count": 7,
   "metadata": {},
   "outputs": [
    {
     "name": "stdout",
     "output_type": "stream",
     "text": [
      "The mean absolute error for the training set is: 86.0838430950452\n",
      "The R2 score for the training set is: 0.8749867938140782\n",
      "\n",
      "\n",
      "The mean absolute error for the test set is: 97.81799831813109\n",
      "The R2 score for the test set is: 0.8990516531635935\n"
     ]
    }
   ],
   "source": [
    "model = linear_model.LinearRegression()\n",
    "reg_split = model.fit(X_train, y_train)\n",
    "\n",
    "y_pred_train = reg_split.predict(X_train)\n",
    "print(\"The mean absolute error for the training set is:\", mean_absolute_error(y_train, y_pred_train))\n",
    "print(\"The R2 score for the training set is:\", r2_score(y_train, y_pred_train))\n",
    "print(\"\\n\")\n",
    "y_pred_test = reg_split.predict(X_test)\n",
    "print(\"The mean absolute error for the test set is:\", mean_absolute_error(y_test, y_pred_test))\n",
    "print(\"The R2 score for the test set is:\", r2_score(y_test, y_pred_test))"
   ]
  },
  {
   "cell_type": "markdown",
   "metadata": {},
   "source": [
    "### d."
   ]
  },
  {
   "cell_type": "code",
   "execution_count": 8,
   "metadata": {},
   "outputs": [],
   "source": [
    "import seaborn as sns\n",
    "import copy"
   ]
  },
  {
   "cell_type": "code",
   "execution_count": 9,
   "metadata": {},
   "outputs": [
    {
     "data": {
      "text/html": [
       "<div>\n",
       "<style scoped>\n",
       "    .dataframe tbody tr th:only-of-type {\n",
       "        vertical-align: middle;\n",
       "    }\n",
       "\n",
       "    .dataframe tbody tr th {\n",
       "        vertical-align: top;\n",
       "    }\n",
       "\n",
       "    .dataframe thead th {\n",
       "        text-align: right;\n",
       "    }\n",
       "</style>\n",
       "<table border=\"1\" class=\"dataframe\">\n",
       "  <thead>\n",
       "    <tr style=\"text-align: right;\">\n",
       "      <th></th>\n",
       "      <th>Length1</th>\n",
       "      <th>Length2</th>\n",
       "      <th>Length3</th>\n",
       "      <th>Height</th>\n",
       "      <th>Width</th>\n",
       "    </tr>\n",
       "  </thead>\n",
       "  <tbody>\n",
       "    <tr>\n",
       "      <th>Length1</th>\n",
       "      <td>1.000000</td>\n",
       "      <td>0.999415</td>\n",
       "      <td>0.990696</td>\n",
       "      <td>0.594366</td>\n",
       "      <td>0.843893</td>\n",
       "    </tr>\n",
       "    <tr>\n",
       "      <th>Length2</th>\n",
       "      <td>0.999415</td>\n",
       "      <td>1.000000</td>\n",
       "      <td>0.993202</td>\n",
       "      <td>0.612155</td>\n",
       "      <td>0.851321</td>\n",
       "    </tr>\n",
       "    <tr>\n",
       "      <th>Length3</th>\n",
       "      <td>0.990696</td>\n",
       "      <td>0.993202</td>\n",
       "      <td>1.000000</td>\n",
       "      <td>0.681548</td>\n",
       "      <td>0.857178</td>\n",
       "    </tr>\n",
       "    <tr>\n",
       "      <th>Height</th>\n",
       "      <td>0.594366</td>\n",
       "      <td>0.612155</td>\n",
       "      <td>0.681548</td>\n",
       "      <td>1.000000</td>\n",
       "      <td>0.775991</td>\n",
       "    </tr>\n",
       "    <tr>\n",
       "      <th>Width</th>\n",
       "      <td>0.843893</td>\n",
       "      <td>0.851321</td>\n",
       "      <td>0.857178</td>\n",
       "      <td>0.775991</td>\n",
       "      <td>1.000000</td>\n",
       "    </tr>\n",
       "  </tbody>\n",
       "</table>\n",
       "</div>"
      ],
      "text/plain": [
       "          Length1   Length2   Length3    Height     Width\n",
       "Length1  1.000000  0.999415  0.990696  0.594366  0.843893\n",
       "Length2  0.999415  1.000000  0.993202  0.612155  0.851321\n",
       "Length3  0.990696  0.993202  1.000000  0.681548  0.857178\n",
       "Height   0.594366  0.612155  0.681548  1.000000  0.775991\n",
       "Width    0.843893  0.851321  0.857178  0.775991  1.000000"
      ]
     },
     "execution_count": 9,
     "metadata": {},
     "output_type": "execute_result"
    }
   ],
   "source": [
    "corr_matrix = X_train.corr()\n",
    "corr_matrix"
   ]
  },
  {
   "cell_type": "code",
   "execution_count": 10,
   "metadata": {},
   "outputs": [
    {
     "data": {
      "text/plain": [
       "Length1    0.999415\n",
       "Length3    0.993202\n",
       "Width      0.851321\n",
       "dtype: float64"
      ]
     },
     "execution_count": 10,
     "metadata": {},
     "output_type": "execute_result"
    }
   ],
   "source": [
    "X_corrs = X_train.drop(['Length2'], axis = 1)\n",
    "y_corrs = X_train['Length2']\n",
    "X_corrs.corrwith(y_corrs)[X_corrs.corrwith(y_corrs) > 0.8]"
   ]
  },
  {
   "cell_type": "code",
   "execution_count": 11,
   "metadata": {},
   "outputs": [],
   "source": [
    "X_train2 = copy.deepcopy(X_train)\n",
    "X_train2 = X_train2.reset_index()"
   ]
  },
  {
   "cell_type": "code",
   "execution_count": 12,
   "metadata": {},
   "outputs": [
    {
     "data": {
      "text/plain": [
       "<seaborn.axisgrid.PairGrid at 0x2092b7db908>"
      ]
     },
     "execution_count": 12,
     "metadata": {},
     "output_type": "execute_result"
    },
    {
     "data": {
      "image/png": "[encoded data removed]",
      "text/plain": [
       "<Figure size 990.125x900 with 30 Axes>"
      ]
     },
     "metadata": {
      "needs_background": "light"
     },
     "output_type": "display_data"
    }
   ],
   "source": [
    "sns.pairplot(X_train2, hue = \"Species\", kind = \"scatter\")"
   ]
  },
  {
   "cell_type": "markdown",
   "metadata": {},
   "source": [
    "When we look at the row for Length2 in the above pairplot, we can see that the scatter plot for the correlation between (Length2, Length1) and (Length2, Length3) display very high correlations with values of nearly 1. The correlation plot between (Length2, Width) is not as high as that of the previous 2 plots, but it is positively correlated with a value greater than 0.8. The correlation plot between (Length2, Height) is not as linear as the previous 3, and so it confirms the previous answer."
   ]
  },
  {
   "cell_type": "markdown",
   "metadata": {},
   "source": [
    "### e."
   ]
  },
  {
   "cell_type": "code",
   "execution_count": 13,
   "metadata": {},
   "outputs": [
    {
     "data": {
      "text/plain": [
       "Text(0.5, 1.0, 'Histogram of weight distribution')"
      ]
     },
     "execution_count": 13,
     "metadata": {},
     "output_type": "execute_result"
    },
    {
     "data": {
      "image/png": "[encoded data removed]",
      "text/plain": [
       "<Figure size 432x288 with 1 Axes>"
      ]
     },
     "metadata": {
      "needs_background": "light"
     },
     "output_type": "display_data"
    }
   ],
   "source": [
    "y_train.hist(bins = 8)\n",
    "xlabel('Weight')\n",
    "ylabel('Frequency')\n",
    "title('Histogram of weight distribution')"
   ]
  },
  {
   "cell_type": "code",
   "execution_count": 14,
   "metadata": {},
   "outputs": [
    {
     "data": {
      "text/plain": [
       "Text(0.5, 1.0, 'Histogram of log weight distribution')"
      ]
     },
     "execution_count": 14,
     "metadata": {},
     "output_type": "execute_result"
    },
    {
     "data": {
      "image/png": "[encoded data removed]",
      "text/plain": [
       "<Figure size 432x288 with 1 Axes>"
      ]
     },
     "metadata": {
      "needs_background": "light"
     },
     "output_type": "display_data"
    }
   ],
   "source": [
    "y_train_log = np.log(y_train)\n",
    "y_train_log.hist(bins = 8)\n",
    "xlabel('log Weight')\n",
    "ylabel('Frequency')\n",
    "title('Histogram of log weight distribution')"
   ]
  },
  {
   "cell_type": "code",
   "execution_count": 15,
   "metadata": {},
   "outputs": [],
   "source": [
    "y_test_log = np.log(y_test)\n",
    "model2 = linear_model.LinearRegression()\n",
    "semi_log = model2.fit(X_train, y_train_log)"
   ]
  },
  {
   "cell_type": "code",
   "execution_count": 16,
   "metadata": {},
   "outputs": [
    {
     "name": "stdout",
     "output_type": "stream",
     "text": [
      "The mean absolute error for the training set is: 95.58357335390237\n",
      "The R2 score for the training set is: 0.6973650153179167\n",
      "\n",
      "\n",
      "The mean absolute error for the test set is: 177.96160694578717\n",
      "The R2 score for the test set is: -0.42336576724785413\n"
     ]
    }
   ],
   "source": [
    "y_train_log_pred = semi_log.predict(X_train)\n",
    "print(\"The mean absolute error for the training set is:\", mean_absolute_error(y_train, np.exp(y_train_log_pred)))\n",
    "print(\"The R2 score for the training set is:\", r2_score(y_train, np.exp(y_train_log_pred)))\n",
    "print(\"\\n\")\n",
    "y_test_log_pred = semi_log.predict(X_test)\n",
    "print(\"The mean absolute error for the test set is:\", mean_absolute_error(y_test, np.exp(y_test_log_pred)))\n",
    "print(\"The R2 score for the test set is:\", r2_score(y_test, np.exp(y_test_log_pred)))"
   ]
  },
  {
   "cell_type": "markdown",
   "metadata": {},
   "source": [
    "The MAE for the test set nearly doubled and the R2 score for the test set became negative. This implies that the semilog training algorithm did a poor job at establishing a relationship between X and y on a semi-log scale. In this case, I would prefer to use a linear regression rather than a semi-log regression."
   ]
  },
  {
   "cell_type": "markdown",
   "metadata": {},
   "source": [
    "### f."
   ]
  },
  {
   "cell_type": "code",
   "execution_count": 17,
   "metadata": {},
   "outputs": [],
   "source": [
    "from sklearn.feature_selection import RFE"
   ]
  },
  {
   "cell_type": "code",
   "execution_count": 18,
   "metadata": {},
   "outputs": [],
   "source": [
    "model = linear_model.LinearRegression()\n",
    "rfe = RFE(model, n_features_to_select=1)\n",
    "fit = rfe.fit(X,y)"
   ]
  },
  {
   "cell_type": "code",
   "execution_count": 19,
   "metadata": {},
   "outputs": [
    {
     "data": {
      "text/plain": [
       "array([2, 5, 1, 3, 4])"
      ]
     },
     "execution_count": 19,
     "metadata": {},
     "output_type": "execute_result"
    }
   ],
   "source": [
    "fit.ranking_"
   ]
  },
  {
   "cell_type": "code",
   "execution_count": 20,
   "metadata": {},
   "outputs": [
    {
     "data": {
      "text/plain": [
       "Index(['Length1', 'Length2', 'Length3', 'Height', 'Width'], dtype='object')"
      ]
     },
     "execution_count": 20,
     "metadata": {},
     "output_type": "execute_result"
    }
   ],
   "source": [
    "X.columns"
   ]
  },
  {
   "cell_type": "code",
   "execution_count": 21,
   "metadata": {},
   "outputs": [
    {
     "data": {
      "text/html": [
       "<div>\n",
       "<style scoped>\n",
       "    .dataframe tbody tr th:only-of-type {\n",
       "        vertical-align: middle;\n",
       "    }\n",
       "\n",
       "    .dataframe tbody tr th {\n",
       "        vertical-align: top;\n",
       "    }\n",
       "\n",
       "    .dataframe thead th {\n",
       "        text-align: right;\n",
       "    }\n",
       "</style>\n",
       "<table border=\"1\" class=\"dataframe\">\n",
       "  <thead>\n",
       "    <tr style=\"text-align: right;\">\n",
       "      <th></th>\n",
       "      <th>Rank</th>\n",
       "    </tr>\n",
       "    <tr>\n",
       "      <th>Feature</th>\n",
       "      <th></th>\n",
       "    </tr>\n",
       "  </thead>\n",
       "  <tbody>\n",
       "    <tr>\n",
       "      <th>Length3</th>\n",
       "      <td>1</td>\n",
       "    </tr>\n",
       "    <tr>\n",
       "      <th>Length1</th>\n",
       "      <td>2</td>\n",
       "    </tr>\n",
       "    <tr>\n",
       "      <th>Height</th>\n",
       "      <td>3</td>\n",
       "    </tr>\n",
       "    <tr>\n",
       "      <th>Width</th>\n",
       "      <td>4</td>\n",
       "    </tr>\n",
       "    <tr>\n",
       "      <th>Length2</th>\n",
       "      <td>5</td>\n",
       "    </tr>\n",
       "  </tbody>\n",
       "</table>\n",
       "</div>"
      ],
      "text/plain": [
       "         Rank\n",
       "Feature      \n",
       "Length3     1\n",
       "Length1     2\n",
       "Height      3\n",
       "Width       4\n",
       "Length2     5"
      ]
     },
     "execution_count": 21,
     "metadata": {},
     "output_type": "execute_result"
    }
   ],
   "source": [
    "significance = pd.DataFrame(zip(X.columns,fit.ranking_), columns = ['Feature', 'Rank']).sort_values(by = 'Rank', ascending = True).set_index('Feature')\n",
    "significance"
   ]
  },
  {
   "cell_type": "markdown",
   "metadata": {},
   "source": [
    "### g."
   ]
  },
  {
   "cell_type": "markdown",
   "metadata": {},
   "source": [
    "g. (Bonus question - 5 pts) Use the Species column for one-hot encoding and perform part c of this question. Explain your results."
   ]
  },
  {
   "cell_type": "code",
   "execution_count": 22,
   "metadata": {},
   "outputs": [
    {
     "name": "stdout",
     "output_type": "stream",
     "text": [
      "Perch        56\n",
      "Bream        35\n",
      "Roach        19\n",
      "Pike         17\n",
      "Smelt        14\n",
      "Parkki       11\n",
      "Whitefish     6\n",
      "Name: Species, dtype: int64\n"
     ]
    }
   ],
   "source": [
    "df_copy = df.reset_index()\n",
    "print(df_copy['Species'].value_counts())\n",
    "df_copy['Species_cat_perch'] = 0.0\n",
    "df_copy['Species_cat_perch'][df_copy['Species'] =='Perch'] = 1\n",
    "df_copy['Species_cat_bream'] = 0.0\n",
    "df_copy['Species_cat_bream'][df_copy['Species'] =='Bream'] = 1\n",
    "df_copy['Species_cat_roach'] = 0.0\n",
    "df_copy['Species_cat_roach'][df_copy['Species'] =='Roach'] = 1\n",
    "df_copy['Species_cat_pike'] = 0.0\n",
    "df_copy['Species_cat_pike'][df_copy['Species'] =='Pike'] = 1\n",
    "df_copy['Species_cat_smelt'] = 0.0\n",
    "df_copy['Species_cat_smelt'][df_copy['Species'] =='Smelt'] = 1\n",
    "df_copy['Species_cat_parkki'] = 0.0\n",
    "df_copy['Species_cat_parkki'][df_copy['Species'] =='Parkki'] = 1\n",
    "df_copy['Species_cat_whitefish'] = 0.0\n",
    "df_copy['Species_cat_whitefish'][df_copy['Species'] =='Whitefish'] = 1"
   ]
  },
  {
   "cell_type": "code",
   "execution_count": 23,
   "metadata": {},
   "outputs": [],
   "source": [
    "X_fish_cat = df_copy.drop(['Weight' , 'Species'], axis=1)\n",
    "y_fish_cat = df['Weight']"
   ]
  },
  {
   "cell_type": "code",
   "execution_count": 24,
   "metadata": {},
   "outputs": [
    {
     "name": "stdout",
     "output_type": "stream",
     "text": [
      "The MAE for the training set with the fish categorical variables is: 63.15937130081529\n",
      "The R2 score for the training set with the fish categorical variables is: 0.9292624473278825\n",
      "\n",
      "\n",
      "The MAE for the test set with the fish categorical variables is: 72.60591304329998\n",
      "The R2 score for the test set with the fish categorical variables is: 0.9444710892480658\n"
     ]
    }
   ],
   "source": [
    "X_train_fish_cat, X_test_fish_cat, y_train_fish_cat, y_test_fish_cat = train_test_split(X_fish_cat, y_fish_cat, test_size=0.25, random_state=50)\n",
    "train_regression = reg.fit(X_train_fish_cat, y_train_fish_cat)\n",
    "y_pred_train_fish = reg.predict(X_train_fish_cat)\n",
    "y_pred_test_fish = reg.predict(X_test_fish_cat)\n",
    "print(\"The MAE for the training set with the fish categorical variables is:\", mean_absolute_error(y_train_fish_cat, y_pred_train_fish))\n",
    "print(\"The R2 score for the training set with the fish categorical variables is:\", r2_score(y_train_fish_cat, y_pred_train_fish))\n",
    "print(\"\\n\")\n",
    "print(\"The MAE for the test set with the fish categorical variables is:\", mean_absolute_error(y_test_fish_cat, y_pred_test_fish))\n",
    "print(\"The R2 score for the test set with the fish categorical variables is:\", r2_score(y_test_fish_cat, y_pred_test_fish))"
   ]
  },
  {
   "cell_type": "markdown",
   "metadata": {
    "colab_type": "text",
    "id": "Z9h7-QI6VvKf"
   },
   "source": [
    "# Question 4 (30 pts)\n",
    "\n",
    "Using the same data from the previous question, in this question you will explore the application of Lasso and Ridge regression using sklearn package in Python. Use the same train and test data with additional augmented columns from before. Scale the data so that each of the independent variables have zero mean and unit variance. You can use the [sklearn.preprocessing.scale](https://scikit-learn.org/stable/modules/generated/sklearn.preprocessing.scale.html) function for this."
   ]
  },
  {
   "cell_type": "markdown",
   "metadata": {
    "colab_type": "text",
    "id": "oMK1ZYt0V9rE"
   },
   "source": [
    "    from sklearn.linear_model import LinearRegression, Lasso, Ridge, RidgeCV, LassoCV"
   ]
  },
  {
   "cell_type": "markdown",
   "metadata": {
    "colab_type": "text",
    "id": "Yb0J5dMqV5ya"
   },
   "source": [
    "1) Use sklearn.linear_model.Lasso and sklearn.linear_model.Ridge classes to do a [5-fold cross validation](http://scikit-learn.org/stable/auto_examples/exercises/plot_cv_diabetes.html#example-exercises-plot-cv-diabetes-py) using sklearn's [KFold](http://scikit-learn.org/stable/modules/generated/sklearn.cross_validation.KFold.html). For the sweep of the regularization parameter, we will look at a grid of values ranging from $\\lambda = 10^{10}$ to $\\lambda = 10^{-2}$. In Python, you can consider this range of values as follows:\n",
    "\n",
    "      import numpy as np\n",
    "\n",
    "      alphas =  10**np.linspace(10,-2,100)*0.5\n",
    "\n",
    "  Report the best chosen $\\lambda$ based on cross validation. The cross validation should happen on your training data using  average MAE as the scoring metric. (8pts)\n",
    "\n",
    "2) Run ridge and lasso for all of the alphas specified above (on training data), and plot the coefficients learned for each of them - there should be one plot each for lasso and ridge, so a total of two plots; the plots for different features for a method should be on the same plot. What do you qualitatively observe when value of the regularization parameter is changed? (7pts)\n",
    "\n",
    "3) Run least squares regression, ridge, and lasso on the training data. For ridge and lasso, use only the best regularization parameter. Report the prediction error (MAE) on the test data for each. (5pts)\n",
    "\n",
    "4) Run lasso again with cross validation using [sklearn.linear_model.LassoCV](http://scikit-learn.org/stable/modules/generated/sklearn.linear_model.LassoCV.html). Set the cross validation parameters as follows:\n",
    "\n",
    "    LassoCV(alphas=None, cv=10, max_iter=10000)\n",
    "\n",
    "Report the best $\\lambda$ based on cross validation. Run lasso on the training data using the best $\\lambda$ and report the coefficeints for all variables. (5pts)\n",
    "\n",
    "5) Why did we have to scale the data before regularization? (5pts)"
   ]
  },
  {
   "cell_type": "markdown",
   "metadata": {},
   "source": [
    "## Answer"
   ]
  },
  {
   "cell_type": "markdown",
   "metadata": {},
   "source": [
    "### 1."
   ]
  },
  {
   "cell_type": "code",
   "execution_count": 25,
   "metadata": {},
   "outputs": [],
   "source": [
    "from sklearn.linear_model import LinearRegression, Lasso, Ridge, RidgeCV, LassoCV\n",
    "from sklearn.preprocessing import scale\n",
    "from sklearn.model_selection import KFold, GridSearchCV"
   ]
  },
  {
   "cell_type": "code",
   "execution_count": 26,
   "metadata": {},
   "outputs": [
    {
     "name": "stdout",
     "output_type": "stream",
     "text": [
      "The best lambda based on cross validation for lasso regression is: 5.361336110051605\n",
      "The best lambda based on cross validation for ridge regression is: 0.06164233697210317\n"
     ]
    }
   ],
   "source": [
    "X_train_norm = scale(X_train, axis=0, with_mean=True, with_std=True, copy=True)\n",
    "X_test_norm = scale(X_test, axis=0, with_mean=True, with_std=True, copy=True)\n",
    "\n",
    "alphas = 10**np.linspace(10,-2,100)*0.5\n",
    "n_folds = 5\n",
    "tuned_parameters = [{'alpha': alphas}]\n",
    "\n",
    "# Lasso Model\n",
    "lasso = Lasso(random_state = 0, tol = 0.1)\n",
    "lasso_clf = GridSearchCV(lasso, tuned_parameters, scoring='neg_mean_absolute_error', cv=n_folds, refit=False)\n",
    "lasso_clf.fit(X_train_norm,y_train)\n",
    "print(\"The best lambda based on cross validation for lasso regression is:\",lasso_clf.best_params_['alpha'])\n",
    "\n",
    "# Ridge Model\n",
    "ridge = Ridge(random_state = 0, tol = 0.1)\n",
    "ridge_clf = GridSearchCV(ridge, tuned_parameters, scoring='neg_mean_absolute_error', cv=n_folds, refit=False)\n",
    "ridge_clf.fit(X_train_norm,y_train)\n",
    "print(\"The best lambda based on cross validation for ridge regression is:\",ridge_clf.best_params_['alpha'])"
   ]
  },
  {
   "cell_type": "markdown",
   "metadata": {},
   "source": [
    "### 2."
   ]
  },
  {
   "cell_type": "code",
   "execution_count": 27,
   "metadata": {},
   "outputs": [
    {
     "data": {
      "text/plain": [
       "Text(0.5, 1.0, 'Lasso coefficient plotting due to alpha')"
      ]
     },
     "execution_count": 27,
     "metadata": {},
     "output_type": "execute_result"
    },
    {
     "data": {
      "image/png": "[encoded data removed]",
      "text/plain": [
       "<Figure size 432x288 with 1 Axes>"
      ]
     },
     "metadata": {
      "needs_background": "light"
     },
     "output_type": "display_data"
    }
   ],
   "source": [
    "# Lasso coefficient plotting\n",
    "\n",
    "lasso_coefs = []\n",
    "lasso_model = linear_model.Lasso(alpha = alphas, random_state = 0, tol = 0.1)\n",
    "for a in alphas:\n",
    "    lasso_model.set_params(alpha=a)\n",
    "    lasso_model.fit(X_train_norm, y_train)\n",
    "    lasso_coefs.append(lasso_model.coef_)\n",
    "    \n",
    "ax = plt.gca()\n",
    "ax.plot(alphas, lasso_coefs)\n",
    "ax.set_xscale('log')\n",
    "plt.xlabel('alpha')\n",
    "plt.ylabel('coefficients')\n",
    "plt.title('Lasso coefficient plotting due to alpha')"
   ]
  },
  {
   "cell_type": "code",
   "execution_count": 28,
   "metadata": {},
   "outputs": [
    {
     "data": {
      "text/plain": [
       "Text(0.5, 1.0, 'Ridge coefficient plotting due to alpha')"
      ]
     },
     "execution_count": 28,
     "metadata": {},
     "output_type": "execute_result"
    },
    {
     "data": {
      "image/png": "[encoded data removed]",
      "text/plain": [
       "<Figure size 432x288 with 1 Axes>"
      ]
     },
     "metadata": {
      "needs_background": "light"
     },
     "output_type": "display_data"
    }
   ],
   "source": [
    "# Ridge coefficient plotting\n",
    "\n",
    "ridge_coefs = []\n",
    "ridge_model = linear_model.Ridge(alpha = alphas, random_state = 0, tol = 0.1)\n",
    "for a in alphas:\n",
    "    ridge_model.set_params(alpha=a)\n",
    "    ridge_model.fit(X_train_norm, y_train)\n",
    "    ridge_coefs.append(ridge_model.coef_)\n",
    "    \n",
    "ax = plt.gca()\n",
    "ax.plot(alphas, ridge_coefs)\n",
    "ax.set_xscale('log')\n",
    "plt.xlabel('alpha')\n",
    "plt.ylabel('coefficients')\n",
    "plt.title('Ridge coefficient plotting due to alpha')"
   ]
  },
  {
   "cell_type": "markdown",
   "metadata": {},
   "source": [
    "As the regularization parameter increases, the coefficients are penalized and approach 0."
   ]
  },
  {
   "cell_type": "markdown",
   "metadata": {},
   "source": [
    "### 3."
   ]
  },
  {
   "cell_type": "code",
   "execution_count": 29,
   "metadata": {},
   "outputs": [],
   "source": [
    "model = linear_model.LinearRegression()\n",
    "linear = model.fit(X_train_norm, y_train)\n",
    "y_pred_test_linear = linear.predict(X_test_norm)"
   ]
  },
  {
   "cell_type": "code",
   "execution_count": 30,
   "metadata": {},
   "outputs": [],
   "source": [
    "model2 = linear_model.Ridge(alpha = ridge_clf.best_params_['alpha'], random_state = 0, tol = 0.1)\n",
    "ridge_best = model2.fit(X_train_norm, y_train)\n",
    "y_pred_test_ridge = ridge_best.predict(X_test_norm)"
   ]
  },
  {
   "cell_type": "code",
   "execution_count": 31,
   "metadata": {},
   "outputs": [],
   "source": [
    "model3 = linear_model.Lasso(alpha = lasso_clf.best_params_['alpha'], random_state = 0, tol = 0.1)\n",
    "lasso_best = model3.fit(X_train_norm, y_train)\n",
    "y_pred_test_lasso = lasso_best.predict(X_test_norm)"
   ]
  },
  {
   "cell_type": "code",
   "execution_count": 32,
   "metadata": {},
   "outputs": [
    {
     "name": "stdout",
     "output_type": "stream",
     "text": [
      "The linear MAE on the test data is: 103.37374547993404\n",
      "The ridge MAE on the test data is: 104.08272979280555\n",
      "The lasso MAE on the test data is: 102.72722937993879\n"
     ]
    }
   ],
   "source": [
    "print(\"The linear MAE on the test data is:\", mean_absolute_error(y_test, y_pred_test_linear))\n",
    "print(\"The ridge MAE on the test data is:\", mean_absolute_error(y_test, y_pred_test_ridge))\n",
    "print(\"The lasso MAE on the test data is:\", mean_absolute_error(y_test, y_pred_test_lasso))"
   ]
  },
  {
   "cell_type": "markdown",
   "metadata": {},
   "source": [
    "### 4."
   ]
  },
  {
   "cell_type": "markdown",
   "metadata": {},
   "source": [
    "4) Run lasso again with cross validation using [sklearn.linear_model.LassoCV](http://scikit-learn.org/stable/modules/generated/sklearn.linear_model.LassoCV.html). Set the cross validation parameters as follows:\n",
    "\n",
    "    LassoCV(alphas=None, cv=10, max_iter=10000)\n",
    "\n",
    "Report the best $\\lambda$ based on cross validation. Run lasso on the training data using the best $\\lambda$ and report the coefficeints for all variables. (5pts)"
   ]
  },
  {
   "cell_type": "code",
   "execution_count": 33,
   "metadata": {},
   "outputs": [
    {
     "name": "stdout",
     "output_type": "stream",
     "text": [
      "The best alpha value based on cross validation for the lasso regression is: 0.7609265050141201\n"
     ]
    }
   ],
   "source": [
    "lassoCV = LassoCV(alphas = None, cv = 10, max_iter = 10000)\n",
    "lassoCV.fit(X_train_norm, y_train)\n",
    "print(\"The best alpha value based on cross validation for the lasso regression is:\", lassoCV.alpha_)"
   ]
  },
  {
   "cell_type": "code",
   "execution_count": 34,
   "metadata": {},
   "outputs": [
    {
     "data": {
      "text/html": [
       "<div>\n",
       "<style scoped>\n",
       "    .dataframe tbody tr th:only-of-type {\n",
       "        vertical-align: middle;\n",
       "    }\n",
       "\n",
       "    .dataframe tbody tr th {\n",
       "        vertical-align: top;\n",
       "    }\n",
       "\n",
       "    .dataframe thead th {\n",
       "        text-align: right;\n",
       "    }\n",
       "</style>\n",
       "<table border=\"1\" class=\"dataframe\">\n",
       "  <thead>\n",
       "    <tr style=\"text-align: right;\">\n",
       "      <th></th>\n",
       "      <th>Lasso CV Coefficient</th>\n",
       "    </tr>\n",
       "    <tr>\n",
       "      <th>Feature</th>\n",
       "      <th></th>\n",
       "    </tr>\n",
       "  </thead>\n",
       "  <tbody>\n",
       "    <tr>\n",
       "      <th>Length1</th>\n",
       "      <td>198.301015</td>\n",
       "    </tr>\n",
       "    <tr>\n",
       "      <th>Length2</th>\n",
       "      <td>1.490494</td>\n",
       "    </tr>\n",
       "    <tr>\n",
       "      <th>Length3</th>\n",
       "      <td>-0.000000</td>\n",
       "    </tr>\n",
       "    <tr>\n",
       "      <th>Height</th>\n",
       "      <td>62.837349</td>\n",
       "    </tr>\n",
       "    <tr>\n",
       "      <th>Width</th>\n",
       "      <td>77.754620</td>\n",
       "    </tr>\n",
       "  </tbody>\n",
       "</table>\n",
       "</div>"
      ],
      "text/plain": [
       "         Lasso CV Coefficient\n",
       "Feature                      \n",
       "Length1            198.301015\n",
       "Length2              1.490494\n",
       "Length3             -0.000000\n",
       "Height              62.837349\n",
       "Width               77.754620"
      ]
     },
     "execution_count": 34,
     "metadata": {},
     "output_type": "execute_result"
    }
   ],
   "source": [
    "model4 = linear_model.Lasso(alpha = lassoCV.alpha_)\n",
    "lassoCV_best = model4.fit(X_train_norm, y_train)\n",
    "lassoCV_coefficients = pd.DataFrame(zip(X_train.columns,lassoCV_best.coef_), columns = ['Feature', 'Lasso CV Coefficient']).set_index('Feature')\n",
    "lassoCV_coefficients"
   ]
  },
  {
   "cell_type": "markdown",
   "metadata": {},
   "source": [
    "### 5."
   ]
  },
  {
   "cell_type": "markdown",
   "metadata": {},
   "source": [
    "5) Why did we have to scale the data before regularization? (5pts)"
   ]
  },
  {
   "cell_type": "markdown",
   "metadata": {},
   "source": [
    "Scaling allows the parameters that have large scales (such as height or other parameters with large unit changes) to have their effect measured on the same scale as the other parameters. For lasso and ridge, these unequal scales will have disproprtionate penalties for those parameters."
   ]
  },
  {
   "cell_type": "markdown",
   "metadata": {
    "colab_type": "text",
    "id": "VVQXFJbmWGva"
   },
   "source": [
    "# Question 5 (5 pts)\n",
    "\n",
    "Lasso and ridge regularization techniques are often used to combat overfitting during linear regression. Which of the two yields more sparse models (i.e. fewer number of parameters) when the tuning parameter $\\lambda$ is sufficiently large (but not infinite)?"
   ]
  },
  {
   "cell_type": "markdown",
   "metadata": {
    "colab": {},
    "colab_type": "code",
    "id": "PfqTtPThV4Z6"
   },
   "source": [
    "## Answer"
   ]
  },
  {
   "cell_type": "markdown",
   "metadata": {},
   "source": [
    "Lasso penalizes the parameters more heavily because of the shape of the penalization term. Since it is a square region, as opposed to Ridge's circular penalization area, when $\\lambda$ gets larger it forces some parameters' RSS (residual sum of squares) to intercept the penalization region at the extrema which of course is centered on zero.  When this happens, lasso forces those parameters to be equal to zero thus yielding a more sparse model."
   ]
  }
 ],
 "metadata": {
  "colab": {
   "name": "hw1-questions.ipynb",
   "provenance": []
  },
  "kernelspec": {
   "display_name": "Python 3",
   "language": "python",
   "name": "python3"
  },
  "language_info": {
   "codemirror_mode": {
    "name": "ipython",
    "version": 3
   },
   "file_extension": ".py",
   "mimetype": "text/x-python",
   "name": "python",
   "nbconvert_exporter": "python",
   "pygments_lexer": "ipython3",
   "version": "3.7.7"
  }
 },
 "nbformat": 4,
 "nbformat_minor": 1
}
